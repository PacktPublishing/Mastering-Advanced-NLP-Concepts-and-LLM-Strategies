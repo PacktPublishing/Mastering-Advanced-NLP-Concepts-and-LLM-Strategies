{
  "nbformat": 4,
  "nbformat_minor": 0,
  "metadata": {
    "colab": {
      "provenance": []
    },
    "kernelspec": {
      "name": "python3",
      "display_name": "Python 3"
    },
    "language_info": {
      "name": "python"
    }
  },
  "cells": [
    {
      "cell_type": "code",
      "execution_count": null,
      "metadata": {
        "colab": {
          "base_uri": "https://localhost:8080/"
        },
        "id": "YHbuJB02M41i",
        "outputId": "c42b285a-b772-45c1-d0ee-1c8531deaeda"
      },
      "outputs": [
        {
          "output_type": "stream",
          "name": "stdout",
          "text": [
            "('the', 'cat'): 0.5\n",
            "('cat', 'sat'): 0.5\n",
            "('sat', 'on'): 1.0\n",
            "('on', 'the'): 1.0\n",
            "('the', 'mat'): 0.25\n",
            "('mat', 'the'): 1.0\n",
            "('the', 'dog'): 0.25\n",
            "('dog', 'chased'): 1.0\n",
            "('chased', 'the'): 1.0\n"
          ]
        }
      ],
      "source": [
        "from collections import defaultdict\n",
        "import re\n",
        "\n",
        "def train_bigram_model(text):\n",
        "    # Tokenize the text\n",
        "    words = re.findall(r'\\b\\w+\\b', text.lower())\n",
        "\n",
        "    # Create bigrams\n",
        "    bigrams = [(words[i], words[i+1]) for i in range(len(words)-1)]\n",
        "\n",
        "    # Count bigram frequencies\n",
        "    bigram_counts = defaultdict(int)\n",
        "    for bigram in bigrams:\n",
        "        bigram_counts[bigram] += 1\n",
        "\n",
        "    # Count word frequencies\n",
        "    word_counts = defaultdict(int)\n",
        "    for word in words:\n",
        "        word_counts[word] += 1\n",
        "\n",
        "    # Calculate bigram probabilities\n",
        "    bigram_probs = {}\n",
        "    for bigram, count in bigram_counts.items():\n",
        "        word1, word2 = bigram\n",
        "        bigram_probs[bigram] = count / word_counts[word1]\n",
        "\n",
        "    return bigram_probs\n",
        "\n",
        "# Example usage\n",
        "text = \"The cat sat on the mat. The dog chased the cat.\"\n",
        "bigram_model = train_bigram_model(text)\n",
        "\n",
        "# Print bigram probabilities\n",
        "for bigram, prob in bigram_model.items():\n",
        "    print(f\"{bigram}: {prob}\")"
      ]
    },
    {
      "cell_type": "code",
      "source": [],
      "metadata": {
        "id": "FT7T67bONMrI"
      },
      "execution_count": null,
      "outputs": []
    }
  ]
}